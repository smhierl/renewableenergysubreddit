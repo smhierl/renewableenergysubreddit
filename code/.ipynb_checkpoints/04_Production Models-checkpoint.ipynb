{
 "cells": [
  {
   "cell_type": "markdown",
   "id": "44e29245",
   "metadata": {},
   "source": [
    "##### Import libraries and read in data."
   ]
  },
  {
   "cell_type": "code",
   "execution_count": 1,
   "id": "aade6f08",
   "metadata": {},
   "outputs": [],
   "source": [
    "import pandas as pd\n",
    "import numpy as np\n",
    "import seaborn as sns\n",
    "import matplotlib.pyplot as plt\n",
    "\n",
    "import sklearn.metrics as metrics\n",
    "from sklearn.linear_model import LogisticRegression\n",
    "from sklearn.ensemble import RandomForestClassifier\n",
    "from sklearn.feature_extraction.text import CountVectorizer\n",
    "from sklearn.pipeline import Pipeline\n",
    "from sklearn.model_selection import train_test_split, GridSearchCV\n",
    "from sklearn.preprocessing import StandardScaler\n",
    "from sklearn.neighbors import KNeighborsClassifier\n",
    "\n",
    "from nltk.stem import WordNetLemmatizer, PorterStemmer\n",
    "from nltk.corpus import stopwords\n"
   ]
  },
  {
   "cell_type": "code",
   "execution_count": 2,
   "id": "cc49b984",
   "metadata": {},
   "outputs": [],
   "source": [
    "renewable=pd.read_csv('../data/renewable.csv')\n",
    "non=pd.read_csv('../data/non_renewable.csv')"
   ]
  },
  {
   "cell_type": "markdown",
   "id": "3344ea3e",
   "metadata": {},
   "source": [
    "##### Rejoin datasets and add dummy variable to indicate subreddit (1 for Renewable Energy and 0 for Energy)."
   ]
  },
  {
   "cell_type": "code",
   "execution_count": 3,
   "id": "0dfedef6",
   "metadata": {},
   "outputs": [],
   "source": [
    "df=pd.concat([renewable, non], ignore_index=True)"
   ]
  },
  {
   "cell_type": "code",
   "execution_count": 4,
   "id": "9e63e916",
   "metadata": {},
   "outputs": [
    {
     "data": {
      "text/html": [
       "<div>\n",
       "<style scoped>\n",
       "    .dataframe tbody tr th:only-of-type {\n",
       "        vertical-align: middle;\n",
       "    }\n",
       "\n",
       "    .dataframe tbody tr th {\n",
       "        vertical-align: top;\n",
       "    }\n",
       "\n",
       "    .dataframe thead th {\n",
       "        text-align: right;\n",
       "    }\n",
       "</style>\n",
       "<table border=\"1\" class=\"dataframe\">\n",
       "  <thead>\n",
       "    <tr style=\"text-align: right;\">\n",
       "      <th></th>\n",
       "      <th>title</th>\n",
       "      <th>subreddit</th>\n",
       "    </tr>\n",
       "  </thead>\n",
       "  <tbody>\n",
       "    <tr>\n",
       "      <th>1996</th>\n",
       "      <td>Lawn mower Battery Market: Industry Analysis a...</td>\n",
       "      <td>energy</td>\n",
       "    </tr>\n",
       "    <tr>\n",
       "      <th>1997</th>\n",
       "      <td>Gas Genset Market- Industry Analysis and forec...</td>\n",
       "      <td>energy</td>\n",
       "    </tr>\n",
       "    <tr>\n",
       "      <th>1998</th>\n",
       "      <td>Electric Rope Shovel Market- Industry Analysis...</td>\n",
       "      <td>energy</td>\n",
       "    </tr>\n",
       "  </tbody>\n",
       "</table>\n",
       "</div>"
      ],
      "text/plain": [
       "                                                  title subreddit\n",
       "1996  Lawn mower Battery Market: Industry Analysis a...    energy\n",
       "1997  Gas Genset Market- Industry Analysis and forec...    energy\n",
       "1998  Electric Rope Shovel Market- Industry Analysis...    energy"
      ]
     },
     "execution_count": 4,
     "metadata": {},
     "output_type": "execute_result"
    }
   ],
   "source": [
    "df.tail(3)"
   ]
  },
  {
   "cell_type": "code",
   "execution_count": 5,
   "id": "49c00deb",
   "metadata": {},
   "outputs": [],
   "source": [
    "df['subreddit'].replace({'RenewableEnergy':1,'energy':0},inplace=True)"
   ]
  },
  {
   "cell_type": "code",
   "execution_count": 6,
   "id": "90e03b11",
   "metadata": {
    "scrolled": true
   },
   "outputs": [
    {
     "data": {
      "text/html": [
       "<div>\n",
       "<style scoped>\n",
       "    .dataframe tbody tr th:only-of-type {\n",
       "        vertical-align: middle;\n",
       "    }\n",
       "\n",
       "    .dataframe tbody tr th {\n",
       "        vertical-align: top;\n",
       "    }\n",
       "\n",
       "    .dataframe thead th {\n",
       "        text-align: right;\n",
       "    }\n",
       "</style>\n",
       "<table border=\"1\" class=\"dataframe\">\n",
       "  <thead>\n",
       "    <tr style=\"text-align: right;\">\n",
       "      <th></th>\n",
       "      <th>title</th>\n",
       "      <th>subreddit</th>\n",
       "    </tr>\n",
       "  </thead>\n",
       "  <tbody>\n",
       "    <tr>\n",
       "      <th>1996</th>\n",
       "      <td>Lawn mower Battery Market: Industry Analysis a...</td>\n",
       "      <td>0</td>\n",
       "    </tr>\n",
       "    <tr>\n",
       "      <th>1997</th>\n",
       "      <td>Gas Genset Market- Industry Analysis and forec...</td>\n",
       "      <td>0</td>\n",
       "    </tr>\n",
       "    <tr>\n",
       "      <th>1998</th>\n",
       "      <td>Electric Rope Shovel Market- Industry Analysis...</td>\n",
       "      <td>0</td>\n",
       "    </tr>\n",
       "  </tbody>\n",
       "</table>\n",
       "</div>"
      ],
      "text/plain": [
       "                                                  title  subreddit\n",
       "1996  Lawn mower Battery Market: Industry Analysis a...          0\n",
       "1997  Gas Genset Market- Industry Analysis and forec...          0\n",
       "1998  Electric Rope Shovel Market- Industry Analysis...          0"
      ]
     },
     "execution_count": 6,
     "metadata": {},
     "output_type": "execute_result"
    }
   ],
   "source": [
    "df.tail(3)"
   ]
  },
  {
   "cell_type": "code",
   "execution_count": 9,
   "id": "dd28a7c9",
   "metadata": {},
   "outputs": [
    {
     "data": {
      "text/html": [
       "<div>\n",
       "<style scoped>\n",
       "    .dataframe tbody tr th:only-of-type {\n",
       "        vertical-align: middle;\n",
       "    }\n",
       "\n",
       "    .dataframe tbody tr th {\n",
       "        vertical-align: top;\n",
       "    }\n",
       "\n",
       "    .dataframe thead th {\n",
       "        text-align: right;\n",
       "    }\n",
       "</style>\n",
       "<table border=\"1\" class=\"dataframe\">\n",
       "  <thead>\n",
       "    <tr style=\"text-align: right;\">\n",
       "      <th></th>\n",
       "      <th>title</th>\n",
       "      <th>subreddit</th>\n",
       "    </tr>\n",
       "  </thead>\n",
       "  <tbody>\n",
       "    <tr>\n",
       "      <th>0</th>\n",
       "      <td>baufinanzierung commerzbank – top konditionen ...</td>\n",
       "      <td>1</td>\n",
       "    </tr>\n",
       "    <tr>\n",
       "      <th>1</th>\n",
       "      <td>Solar Tsunami: Solar PV grows 26% again – stay...</td>\n",
       "      <td>1</td>\n",
       "    </tr>\n",
       "    <tr>\n",
       "      <th>2</th>\n",
       "      <td>Agrivolaics to shine in France after president...</td>\n",
       "      <td>1</td>\n",
       "    </tr>\n",
       "    <tr>\n",
       "      <th>3</th>\n",
       "      <td>Germany aims to get 100% of energy from renewa...</td>\n",
       "      <td>1</td>\n",
       "    </tr>\n",
       "    <tr>\n",
       "      <th>4</th>\n",
       "      <td>Selecting and Building Large-Scale Solar Racki...</td>\n",
       "      <td>1</td>\n",
       "    </tr>\n",
       "  </tbody>\n",
       "</table>\n",
       "</div>"
      ],
      "text/plain": [
       "                                               title  subreddit\n",
       "0  baufinanzierung commerzbank – top konditionen ...          1\n",
       "1  Solar Tsunami: Solar PV grows 26% again – stay...          1\n",
       "2  Agrivolaics to shine in France after president...          1\n",
       "3  Germany aims to get 100% of energy from renewa...          1\n",
       "4  Selecting and Building Large-Scale Solar Racki...          1"
      ]
     },
     "execution_count": 9,
     "metadata": {},
     "output_type": "execute_result"
    }
   ],
   "source": [
    "df.head(5)"
   ]
  },
  {
   "cell_type": "markdown",
   "id": "6d117d75",
   "metadata": {},
   "source": [
    "##### Train/test split."
   ]
  },
  {
   "cell_type": "code",
   "execution_count": 20,
   "id": "eba44d37",
   "metadata": {},
   "outputs": [],
   "source": [
    "X=df['title']\n",
    "y=df['subreddit']"
   ]
  },
  {
   "cell_type": "code",
   "execution_count": 21,
   "id": "a6063544",
   "metadata": {},
   "outputs": [],
   "source": [
    "X_train,X_test,y_train,y_test=train_test_split(X,y,random_state=42)"
   ]
  },
  {
   "cell_type": "markdown",
   "id": "5d211220",
   "metadata": {},
   "source": [
    "##### Baseline model"
   ]
  },
  {
   "cell_type": "code",
   "execution_count": 22,
   "id": "3b490944",
   "metadata": {},
   "outputs": [
    {
     "data": {
      "text/plain": [
       "1    0.50025\n",
       "0    0.49975\n",
       "Name: subreddit, dtype: float64"
      ]
     },
     "execution_count": 22,
     "metadata": {},
     "output_type": "execute_result"
    }
   ],
   "source": [
    "y.value_counts(normalize=True)"
   ]
  },
  {
   "cell_type": "markdown",
   "id": "7de4a2bd",
   "metadata": {},
   "source": [
    "This rate of 50.025% is to be used as a comparison value in evaluating the performance of both production models."
   ]
  },
  {
   "cell_type": "markdown",
   "id": "b2cd4d73",
   "metadata": {},
   "source": [
    "##### Define lemmatize & stem functions"
   ]
  },
  {
   "cell_type": "markdown",
   "id": "79bb1144",
   "metadata": {},
   "source": [
    "Approach sourced from NLP Breakfast Hour 2/28."
   ]
  },
  {
   "cell_type": "code",
   "execution_count": 23,
   "id": "756c3805",
   "metadata": {},
   "outputs": [],
   "source": [
    "def lemmatize_review(review):\n",
    "    lemmatizer = WordNetLemmatizer()\n",
    "    split_review = review.split(' ')\n",
    "    return [lemmatizer.lemmatize(word) for word in split_review]"
   ]
  },
  {
   "cell_type": "code",
   "execution_count": 24,
   "id": "076ea898",
   "metadata": {},
   "outputs": [],
   "source": [
    "def stem_review(review):\n",
    "    p_stemmer = PorterStemmer()\n",
    "    split_review = review.split(' ')\n",
    "    return [p_stemmer.stem(word) for word in split_review]"
   ]
  },
  {
   "cell_type": "markdown",
   "id": "274d92d2",
   "metadata": {},
   "source": [
    "### Logistic Regression Model"
   ]
  },
  {
   "cell_type": "code",
   "execution_count": 25,
   "id": "4105a890",
   "metadata": {},
   "outputs": [],
   "source": [
    "logpipe = Pipeline([\n",
    "    ('vect', CountVectorizer()),\n",
    "    ('log', LogisticRegression())\n",
    "])"
   ]
  },
  {
   "cell_type": "code",
   "execution_count": 27,
   "id": "46c60a33",
   "metadata": {},
   "outputs": [
    {
     "name": "stdout",
     "output_type": "stream",
     "text": [
      "Cross Val Score: 0.6897948717948716\n",
      "Train Score: 0.9739826551034023\n",
      "Test Score: 0.666\n",
      "Best Parameters {'log__max_iter': 1000, 'log__solver': 'lbfgs', 'vect__binary': True, 'vect__max_df': 1.0, 'vect__min_df': 0, 'vect__ngram_range': (1, 2), 'vect__tokenizer': <function stem_review at 0x11dae6c10>}\n"
     ]
    }
   ],
   "source": [
    "params = {\n",
    "    'vect__min_df': (0,1,2),\n",
    "    'vect__max_df': [1.0,.5],\n",
    "    'vect__tokenizer': [stem_review, lemmatize_review, None],\n",
    "    'vect__binary': [True, False],\n",
    "    'vect__ngram_range':[(1,1),(1,2)],\n",
    "    'log__solver':['lbfgs','liblinear'],\n",
    "    'log__max_iter':[1000]\n",
    "}\n",
    "\n",
    "lgs = GridSearchCV(logpipe,param_grid=params)\n",
    "lgs.fit(X_train, y_train)\n",
    "print('Cross Val Score:', lgs.best_score_)\n",
    "print('Train Score:', lgs.score(X_train, y_train))\n",
    "print('Test Score:', lgs.score(X_test, y_test))\n",
    "print('Best Parameters', lgs.best_params_)"
   ]
  },
  {
   "cell_type": "markdown",
   "id": "324aef8a",
   "metadata": {},
   "source": [
    "### Random Forest Model"
   ]
  },
  {
   "cell_type": "code",
   "execution_count": 90,
   "id": "43b3b71e",
   "metadata": {},
   "outputs": [],
   "source": [
    "rfpipe = Pipeline([\n",
    "    ('vect', CountVectorizer()),\n",
    "    ('rf', RandomForestClassifier(random_state=42))\n",
    "])"
   ]
  },
  {
   "cell_type": "code",
   "execution_count": 97,
   "id": "43790d26",
   "metadata": {},
   "outputs": [
    {
     "name": "stdout",
     "output_type": "stream",
     "text": [
      "Cross Val Score: 0.7011282051282052\n",
      "Train Score: 0.9733155436957972\n",
      "Test Score: 0.682\n",
      "Best Parameters {'rf__max_depth': None, 'rf__max_features': 'auto', 'vect__binary': False, 'vect__max_df': 1.0, 'vect__min_df': 2, 'vect__ngram_range': (1, 2), 'vect__tokenizer': <function stem_review at 0x11f91baf0>}\n"
     ]
    }
   ],
   "source": [
    "params = {\n",
    "    'vect__min_df': (0,1,2),\n",
    "    'vect__max_df': [1.0,.5],\n",
    "    'vect__tokenizer': [stem_review, lemmatize_review, None],\n",
    "    'vect__binary': [True, False],\n",
    "    'vect__ngram_range':[(1,1),(1,2)],\n",
    "    'rf__max_depth': [None, 3],\n",
    "    'rf__max_features': ['auto', 3, 5]\n",
    "}\n",
    "gs = GridSearchCV(rfpipe,param_grid=params,verbose=0)\n",
    "gs.fit(X_train, y_train)\n",
    "print('Cross Val Score:', gs.best_score_)\n",
    "print('Train Score:', gs.score(X_train, y_train))\n",
    "print('Test Score:', gs.score(X_test, y_test))\n",
    "print('Best Parameters', gs.best_params_)"
   ]
  },
  {
   "cell_type": "markdown",
   "id": "82727678",
   "metadata": {},
   "source": [
    "### Model Evaluation"
   ]
  },
  {
   "cell_type": "markdown",
   "id": "36367791",
   "metadata": {},
   "source": [
    "From the cross val scores above, we can see that the Random Forest model performs slightly better than the Logistic Regression model."
   ]
  },
  {
   "cell_type": "markdown",
   "id": "4aca581a",
   "metadata": {},
   "source": [
    "##### Classification Report"
   ]
  },
  {
   "cell_type": "code",
   "execution_count": 28,
   "id": "c7c1e4eb",
   "metadata": {},
   "outputs": [
    {
     "name": "stdout",
     "output_type": "stream",
     "text": [
      "              precision    recall  f1-score   support\n",
      "\n",
      "           0       0.64      0.70      0.67       239\n",
      "           1       0.70      0.64      0.67       261\n",
      "\n",
      "    accuracy                           0.67       500\n",
      "   macro avg       0.67      0.67      0.67       500\n",
      "weighted avg       0.67      0.67      0.67       500\n",
      "\n"
     ]
    }
   ],
   "source": [
    "# Logisitic Regression\n",
    "print(metrics.classification_report(y_test,lgs.predict(X_test)))"
   ]
  },
  {
   "cell_type": "code",
   "execution_count": 122,
   "id": "4afd5b91",
   "metadata": {},
   "outputs": [
    {
     "name": "stdout",
     "output_type": "stream",
     "text": [
      "              precision    recall  f1-score   support\n",
      "\n",
      "           0       0.66      0.70      0.68       239\n",
      "           1       0.71      0.66      0.69       261\n",
      "\n",
      "    accuracy                           0.68       500\n",
      "   macro avg       0.68      0.68      0.68       500\n",
      "weighted avg       0.68      0.68      0.68       500\n",
      "\n"
     ]
    }
   ],
   "source": [
    "# Random Forest\n",
    "print(metrics.classification_report(y_test,gs.predict(X_test)))"
   ]
  },
  {
   "cell_type": "markdown",
   "id": "16817705",
   "metadata": {},
   "source": [
    "The better performance of the Random Forest model is reinforced with a slightly higher accuracy rate and f1-scores, though they are comparable between the two."
   ]
  },
  {
   "cell_type": "markdown",
   "id": "94929085",
   "metadata": {},
   "source": [
    "##### Confusion Matrix"
   ]
  },
  {
   "cell_type": "code",
   "execution_count": 136,
   "id": "e58fc333",
   "metadata": {
    "scrolled": false
   },
   "outputs": [
    {
     "data": {
      "image/png": "[encoded data removed]",
      "text/plain": [
       "<Figure size 432x288 with 2 Axes>"
      ]
     },
     "metadata": {
      "needs_background": "light"
     },
     "output_type": "display_data"
    }
   ],
   "source": [
    "# Resource on plotting from Ben Roberts - https://www.stackvidhya.com/plot-confusion-matrix-in-python-and-why/\n",
    "preds = lgs.predict(X_test)\n",
    "\n",
    "cf_matrix = confusion_matrix(y_test,lgs.predict(X_test))\n",
    "\n",
    "group_names = ['True Neg','False Pos','False Neg','True Pos']\n",
    "group_counts = [\"{0:0.0f}\".format(value) for value in\n",
    "                cf_matrix.flatten()]\n",
    "group_percentages = [\"{0:.2%}\".format(value) for value in\n",
    "                     cf_matrix.flatten()/np.sum(cf_matrix)]\n",
    "labels = [f\"{v1}\\n{v2}\\n{v3}\" for v1, v2, v3 in\n",
    "          zip(group_names,group_counts,group_percentages)]\n",
    "labels = np.asarray(labels).reshape(2,2)\n",
    "\n",
    "ax = sns.heatmap(cf_matrix, annot=labels, fmt='', cmap='cividis')\n",
    "ax.set_title('Logistic Regression Confusion Matrix\\n');\n",
    "ax.set_xlabel('Predicted Subreddits')\n",
    "ax.set_ylabel('Actual Subreddits')\n",
    "ax.xaxis.set_ticklabels(['Energy','Renewable Energy'])\n",
    "ax.yaxis.set_ticklabels(['Energy','Renewable Energy']);\n"
   ]
  },
  {
   "cell_type": "code",
   "execution_count": 137,
   "id": "844958ee",
   "metadata": {},
   "outputs": [
    {
     "data": {
      "image/png": "[encoded data removed]",
      "text/plain": [
       "<Figure size 432x288 with 2 Axes>"
      ]
     },
     "metadata": {
      "needs_background": "light"
     },
     "output_type": "display_data"
    }
   ],
   "source": [
    "# Same resource on plotting from Ben Roberts - https://www.stackvidhya.com/plot-confusion-matrix-in-python-and-why/\n",
    "preds = gs.predict(X_test)\n",
    "\n",
    "cf_matrix = confusion_matrix(y_test,gs.predict(X_test))\n",
    "\n",
    "group_names = ['True Neg','False Pos','False Neg','True Pos']\n",
    "group_counts = [\"{0:0.0f}\".format(value) for value in\n",
    "                cf_matrix.flatten()]\n",
    "group_percentages = [\"{0:.2%}\".format(value) for value in\n",
    "                     cf_matrix.flatten()/np.sum(cf_matrix)]\n",
    "labels = [f\"{v1}\\n{v2}\\n{v3}\" for v1, v2, v3 in\n",
    "          zip(group_names,group_counts,group_percentages)]\n",
    "labels = np.asarray(labels).reshape(2,2)\n",
    "\n",
    "ax = sns.heatmap(cf_matrix, annot=labels, fmt='', cmap='cividis')\n",
    "ax.set_title('Random Forest Confusion Matrix\\n');\n",
    "ax.set_xlabel('Predicted Subreddits')\n",
    "ax.set_ylabel('Actual Subreddits')\n",
    "ax.xaxis.set_ticklabels(['Energy','Renewable Energy'])\n",
    "ax.yaxis.set_ticklabels(['Energy','Renewable Energy']);\n"
   ]
  },
  {
   "cell_type": "markdown",
   "id": "bf025bd3",
   "metadata": {},
   "source": [
    "As expected from the classification report, the Random Forest model has slightly fewer false negatives (88 vs 95) and false positives (71 vs 72) than the Logisitic Regression model. Again, both are very close.\n",
    "\n",
    "The percentage of observations incorrectly predicted do not reflect a high level of accuracy. This could be due to needing a different model or further refining the current model, or may be a reflection of overlap in the subreddits."
   ]
  },
  {
   "cell_type": "markdown",
   "id": "4a60ca75",
   "metadata": {},
   "source": [
    "##### Sensitivity vs Specificity"
   ]
  },
  {
   "cell_type": "code",
   "execution_count": 156,
   "id": "8a35628b",
   "metadata": {},
   "outputs": [
    {
     "data": {
      "text/html": [
       "<div>\n",
       "<style scoped>\n",
       "    .dataframe tbody tr th:only-of-type {\n",
       "        vertical-align: middle;\n",
       "    }\n",
       "\n",
       "    .dataframe tbody tr th {\n",
       "        vertical-align: top;\n",
       "    }\n",
       "\n",
       "    .dataframe thead th {\n",
       "        text-align: right;\n",
       "    }\n",
       "</style>\n",
       "<table border=\"1\" class=\"dataframe\">\n",
       "  <thead>\n",
       "    <tr style=\"text-align: right;\">\n",
       "      <th></th>\n",
       "      <th>true_values</th>\n",
       "      <th>pred_probs</th>\n",
       "    </tr>\n",
       "  </thead>\n",
       "  <tbody>\n",
       "    <tr>\n",
       "      <th>256</th>\n",
       "      <td>1</td>\n",
       "      <td>0.417522</td>\n",
       "    </tr>\n",
       "    <tr>\n",
       "      <th>352</th>\n",
       "      <td>1</td>\n",
       "      <td>0.008026</td>\n",
       "    </tr>\n",
       "    <tr>\n",
       "      <th>298</th>\n",
       "      <td>1</td>\n",
       "      <td>0.605801</td>\n",
       "    </tr>\n",
       "    <tr>\n",
       "      <th>581</th>\n",
       "      <td>1</td>\n",
       "      <td>0.935339</td>\n",
       "    </tr>\n",
       "    <tr>\n",
       "      <th>1288</th>\n",
       "      <td>0</td>\n",
       "      <td>0.406054</td>\n",
       "    </tr>\n",
       "  </tbody>\n",
       "</table>\n",
       "</div>"
      ],
      "text/plain": [
       "      true_values  pred_probs\n",
       "256             1    0.417522\n",
       "352             1    0.008026\n",
       "298             1    0.605801\n",
       "581             1    0.935339\n",
       "1288            0    0.406054"
      ]
     },
     "execution_count": 156,
     "metadata": {},
     "output_type": "execute_result"
    }
   ],
   "source": [
    "# Logistic Regression\n",
    "# Approach sourced from Classification Metrics II lesson 2/16\n",
    "pred_df=pd.DataFrame({'true_values':y_test,\n",
    "                      'pred_probs':lgs.predict_proba(X_test)[:,1]})\n",
    "\n",
    "pred_df.head()"
   ]
  },
  {
   "cell_type": "code",
   "execution_count": 165,
   "id": "36e344fa",
   "metadata": {},
   "outputs": [
    {
     "name": "stdout",
     "output_type": "stream",
     "text": [
      "      true_values  pred_probs\n",
      "1288            0    0.406054\n",
      "1765            0    0.005830\n",
      "1587            0    0.816226\n",
      "1611            0    0.118037\n",
      "1997            0    0.036482\n",
      "...           ...         ...\n",
      "1237            0    0.545880\n",
      "1355            0    0.951894\n",
      "1613            0    0.114303\n",
      "1553            0    0.818563\n",
      "1682            0    0.018249\n",
      "\n",
      "[239 rows x 2 columns]\n",
      "     true_values  pred_probs\n",
      "256            1    0.417522\n",
      "352            1    0.008026\n",
      "298            1    0.605801\n",
      "581            1    0.935339\n",
      "420            1    0.849010\n",
      "..           ...         ...\n",
      "425            1    0.938279\n",
      "530            1    0.923230\n",
      "408            1    0.581090\n",
      "692            1    0.637134\n",
      "931            1    0.892905\n",
      "\n",
      "[261 rows x 2 columns]\n"
     ]
    }
   ],
   "source": [
    "for group in pred_df.groupby('true_values'):\n",
    "    print(group[1])"
   ]
  },
  {
   "cell_type": "code",
   "execution_count": 149,
   "id": "91ea92f2",
   "metadata": {
    "scrolled": true
   },
   "outputs": [
    {
     "name": "stderr",
     "output_type": "stream",
     "text": [
      "/Users/Suzanne/opt/anaconda3/lib/python3.9/site-packages/seaborn/distributions.py:2619: FutureWarning: `distplot` is a deprecated function and will be removed in a future version. Please adapt your code to use either `displot` (a figure-level function with similar flexibility) or `histplot` (an axes-level function for histograms).\n",
      "  warnings.warn(msg, FutureWarning)\n"
     ]
    },
    {
     "data": {
      "image/png": "[encoded data removed]",
      "text/plain": [
       "<Figure size 864x360 with 1 Axes>"
      ]
     },
     "metadata": {
      "needs_background": "light"
     },
     "output_type": "display_data"
    }
   ],
   "source": [
    "plt.figure(figsize = (12, 5))\n",
    "for group in pred_df.groupby('true_values'):\n",
    "    sns.distplot(group[1], kde = False, bins = 20, label = f'Renewable Energy = {group[0]}')\n",
    "\n",
    "plt.title('Logistic Regression \\nPredicted Probability that Post Came from Renewable Energy Subreddit')\n",
    "plt.xlabel('Probability (0-1)')\n",
    "plt.ylabel('Frequency')\n",
    "plt.legend();"
   ]
  },
  {
   "cell_type": "code",
   "execution_count": 150,
   "id": "40af3527",
   "metadata": {},
   "outputs": [
    {
     "data": {
      "text/html": [
       "<div>\n",
       "<style scoped>\n",
       "    .dataframe tbody tr th:only-of-type {\n",
       "        vertical-align: middle;\n",
       "    }\n",
       "\n",
       "    .dataframe tbody tr th {\n",
       "        vertical-align: top;\n",
       "    }\n",
       "\n",
       "    .dataframe thead th {\n",
       "        text-align: right;\n",
       "    }\n",
       "</style>\n",
       "<table border=\"1\" class=\"dataframe\">\n",
       "  <thead>\n",
       "    <tr style=\"text-align: right;\">\n",
       "      <th></th>\n",
       "      <th>true_values</th>\n",
       "      <th>pred_probs</th>\n",
       "    </tr>\n",
       "  </thead>\n",
       "  <tbody>\n",
       "    <tr>\n",
       "      <th>256</th>\n",
       "      <td>1</td>\n",
       "      <td>0.138770</td>\n",
       "    </tr>\n",
       "    <tr>\n",
       "      <th>352</th>\n",
       "      <td>1</td>\n",
       "      <td>0.240000</td>\n",
       "    </tr>\n",
       "    <tr>\n",
       "      <th>298</th>\n",
       "      <td>1</td>\n",
       "      <td>0.807500</td>\n",
       "    </tr>\n",
       "    <tr>\n",
       "      <th>581</th>\n",
       "      <td>1</td>\n",
       "      <td>0.874416</td>\n",
       "    </tr>\n",
       "    <tr>\n",
       "      <th>1288</th>\n",
       "      <td>0</td>\n",
       "      <td>0.625000</td>\n",
       "    </tr>\n",
       "  </tbody>\n",
       "</table>\n",
       "</div>"
      ],
      "text/plain": [
       "      true_values  pred_probs\n",
       "256             1    0.138770\n",
       "352             1    0.240000\n",
       "298             1    0.807500\n",
       "581             1    0.874416\n",
       "1288            0    0.625000"
      ]
     },
     "execution_count": 150,
     "metadata": {},
     "output_type": "execute_result"
    }
   ],
   "source": [
    "# Random Forest\n",
    "pred_df=pd.DataFrame({'true_values':y_test,\n",
    "                      'pred_probs':gs.predict_proba(X_test)[:,1]})\n",
    "\n",
    "pred_df.head()"
   ]
  },
  {
   "cell_type": "code",
   "execution_count": 151,
   "id": "dbf8a7a6",
   "metadata": {},
   "outputs": [
    {
     "name": "stderr",
     "output_type": "stream",
     "text": [
      "/Users/Suzanne/opt/anaconda3/lib/python3.9/site-packages/seaborn/distributions.py:2619: FutureWarning: `distplot` is a deprecated function and will be removed in a future version. Please adapt your code to use either `displot` (a figure-level function with similar flexibility) or `histplot` (an axes-level function for histograms).\n",
      "  warnings.warn(msg, FutureWarning)\n"
     ]
    },
    {
     "data": {
      "image/png": "[encoded data removed]",
      "text/plain": [
       "<Figure size 864x360 with 1 Axes>"
      ]
     },
     "metadata": {
      "needs_background": "light"
     },
     "output_type": "display_data"
    }
   ],
   "source": [
    "plt.figure(figsize = (12, 5))\n",
    "for group in pred_df.groupby('true_values'):\n",
    "    sns.distplot(group[1], kde = False, bins = 20, label = f'Renewable Energy = {group[0]}')\n",
    "\n",
    "plt.title('Random Forest \\nPredicted Probability that Post Came from Renewable Energy Subreddit')\n",
    "plt.xlabel('Probability (0-1)')\n",
    "plt.ylabel('Frequency')\n",
    "plt.legend();"
   ]
  },
  {
   "cell_type": "markdown",
   "id": "d9ba50f2",
   "metadata": {},
   "source": [
    "The broad distribution of probabilities indicates that altering either model's sensitivity rate would not necessarily result in a higher performance. It is difficult to successfully seperate the two subreddits with this level of overlap."
   ]
  },
  {
   "cell_type": "markdown",
   "id": "596cd607",
   "metadata": {},
   "source": [
    "##### ROC Curve"
   ]
  },
  {
   "cell_type": "code",
   "execution_count": 155,
   "id": "3b5d62b0",
   "metadata": {},
   "outputs": [
    {
     "data": {
      "image/png": "[encoded data removed]",
      "text/plain": [
       "<Figure size 432x288 with 1 Axes>"
      ]
     },
     "metadata": {
      "needs_background": "light"
     },
     "output_type": "display_data"
    }
   ],
   "source": [
    "metrics.plot_roc_curve(lgs, X_test, y_test,color='navy')\n",
    "plt.plot([0,1], [0,1], color='gold', label='Baseline')\n",
    "plt.legend();"
   ]
  },
  {
   "cell_type": "code",
   "execution_count": 154,
   "id": "0b08d9cb",
   "metadata": {},
   "outputs": [
    {
     "data": {
      "image/png": "[encoded data removed]",
      "text/plain": [
       "<Figure size 432x288 with 1 Axes>"
      ]
     },
     "metadata": {
      "needs_background": "light"
     },
     "output_type": "display_data"
    }
   ],
   "source": [
    "metrics.plot_roc_curve(gs, X_test, y_test,color='navy')\n",
    "plt.plot([0,1], [0,1], color='gold', label='Baseline')\n",
    "plt.legend();"
   ]
  },
  {
   "cell_type": "markdown",
   "id": "f630b3cd",
   "metadata": {},
   "source": [
    "These ROC curves again indicate a somewhat low level of model performance, though both are still above baseline accuracy."
   ]
  },
  {
   "cell_type": "code",
   "execution_count": null,
   "id": "40900f9d",
   "metadata": {},
   "outputs": [],
   "source": []
  }
 ],
 "metadata": {
  "kernelspec": {
   "display_name": "Python 3 (ipykernel)",
   "language": "python",
   "name": "python3"
  },
  "language_info": {
   "codemirror_mode": {
    "name": "ipython",
    "version": 3
   },
   "file_extension": ".py",
   "mimetype": "text/x-python",
   "name": "python",
   "nbconvert_exporter": "python",
   "pygments_lexer": "ipython3",
   "version": "3.9.7"
  }
 },
 "nbformat": 4,
 "nbformat_minor": 5
}
