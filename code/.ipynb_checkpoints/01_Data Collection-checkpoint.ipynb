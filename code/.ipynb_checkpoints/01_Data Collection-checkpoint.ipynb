{
 "cells": [
  {
   "cell_type": "markdown",
   "id": "0787c4f0",
   "metadata": {},
   "source": [
    "# Data Collection"
   ]
  },
  {
   "cell_type": "markdown",
   "id": "7dfaf43d",
   "metadata": {},
   "source": [
    "##### Read in libraries."
   ]
  },
  {
   "cell_type": "code",
   "execution_count": 1,
   "id": "138d337a",
   "metadata": {},
   "outputs": [],
   "source": [
    "import pandas as pd\n",
    "import numpy as np\n",
    "import requests\n",
    "import time"
   ]
  },
  {
   "cell_type": "markdown",
   "id": "95b07311",
   "metadata": {},
   "source": [
    "##### Use Pushshift Reddit API to access data."
   ]
  },
  {
   "cell_type": "code",
   "execution_count": 3,
   "id": "0e21ac6e",
   "metadata": {},
   "outputs": [],
   "source": [
    "dfs=[]\n",
    "subreddits=['renewableenergy','energy']\n",
    "url='https://api.pushshift.io/reddit/search/submission'\n",
    "\n",
    "for subreddit in subreddits:\n",
    "    start_time=int(time.time())\n",
    "    for i in range(10):\n",
    "        params={\n",
    "        'subreddit':subreddit,\n",
    "        'size':100,\n",
    "        'before':start_time\n",
    "        }\n",
    "        res=requests.get(url,params)\n",
    "        if res.status_code==200:\n",
    "            data=res.json()\n",
    "            df=pd.DataFrame(data['data'])\n",
    "            dfs.append(df)\n",
    "            start_time=df['created_utc'][99]\n",
    "        time.sleep(10)"
   ]
  },
  {
   "cell_type": "markdown",
   "id": "9bad7414",
   "metadata": {},
   "source": [
    "##### Concatenate list of DataFrames."
   ]
  },
  {
   "cell_type": "code",
   "execution_count": 4,
   "id": "626fa005",
   "metadata": {},
   "outputs": [],
   "source": [
    "raw_data=pd.concat(dfs)"
   ]
  },
  {
   "cell_type": "markdown",
   "id": "a14ada5a",
   "metadata": {},
   "source": [
    "##### Save DataFrame."
   ]
  },
  {
   "cell_type": "code",
   "execution_count": 5,
   "id": "f8689541",
   "metadata": {},
   "outputs": [],
   "source": [
    "raw_data.to_csv(\"./data/raw_data\")"
   ]
  },
  {
   "cell_type": "code",
   "execution_count": null,
   "id": "13867d4f",
   "metadata": {},
   "outputs": [],
   "source": []
  }
 ],
 "metadata": {
  "kernelspec": {
   "display_name": "Python 3 (ipykernel)",
   "language": "python",
   "name": "python3"
  },
  "language_info": {
   "codemirror_mode": {
    "name": "ipython",
    "version": 3
   },
   "file_extension": ".py",
   "mimetype": "text/x-python",
   "name": "python",
   "nbconvert_exporter": "python",
   "pygments_lexer": "ipython3",
   "version": "3.9.7"
  }
 },
 "nbformat": 4,
 "nbformat_minor": 5
}
