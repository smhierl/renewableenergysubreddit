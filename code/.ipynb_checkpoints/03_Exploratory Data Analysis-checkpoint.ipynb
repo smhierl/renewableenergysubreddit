{
 "cells": [
  {
   "cell_type": "markdown",
   "id": "f8ef0f95",
   "metadata": {},
   "source": [
    "# Exploratory Data Analysis"
   ]
  },
  {
   "cell_type": "markdown",
   "id": "475b8252",
   "metadata": {},
   "source": [
    "##### Import libraries and read in data."
   ]
  },
  {
   "cell_type": "code",
   "execution_count": 4,
   "id": "6c2e1a2c",
   "metadata": {},
   "outputs": [],
   "source": [
    "import pandas as pd       \n",
    "import matplotlib.pyplot as plt\n",
    "import numpy as np\n",
    "\n",
    "from sklearn.feature_extraction.text import CountVectorizer\n",
    "from nltk.sentiment.vader import SentimentIntensityAnalyzer"
   ]
  },
  {
   "cell_type": "code",
   "execution_count": 5,
   "id": "14b7ce88",
   "metadata": {},
   "outputs": [],
   "source": [
    "renewable=pd.read_csv('../data/renewable.csv')\n",
    "non=pd.read_csv('../data/non_renewable.csv')"
   ]
  },
  {
   "cell_type": "markdown",
   "id": "2077e244",
   "metadata": {},
   "source": [
    "##### Compare length of titles via character count."
   ]
  },
  {
   "cell_type": "code",
   "execution_count": 6,
   "id": "45735179",
   "metadata": {},
   "outputs": [],
   "source": [
    "def character_count(string):\n",
    "    return len(string)"
   ]
  },
  {
   "cell_type": "code",
   "execution_count": 7,
   "id": "f66f9453",
   "metadata": {},
   "outputs": [],
   "source": [
    "renewable['title_character_count']=renewable['title'].map(character_count)\n",
    "non['title_character_count']=non['title'].map(character_count)"
   ]
  },
  {
   "cell_type": "code",
   "execution_count": 8,
   "id": "d6d59f38",
   "metadata": {},
   "outputs": [
    {
     "data": {
      "image/png": "[encoded data removed]",
      "text/plain": [
       "<Figure size 432x288 with 1 Axes>"
      ]
     },
     "metadata": {
      "needs_background": "light"
     },
     "output_type": "display_data"
    }
   ],
   "source": [
    "plt.hist(renewable['title_character_count'],color='navy',alpha=.5,label=('Renewable Energy'))\n",
    "plt.hist(non['title_character_count'],color='gold',alpha=.5,label=('Energy'))\n",
    "plt.title('Title Character Count')\n",
    "plt.xlabel('Title Character Count')\n",
    "plt.ylabel('Frequency')\n",
    "plt.axvline(renewable['title_character_count'].mean(), color='navy')\n",
    "plt.axvline(non['title_character_count'].mean(), color='gold')\n",
    "plt.legend();"
   ]
  },
  {
   "cell_type": "markdown",
   "id": "234fa594",
   "metadata": {},
   "source": [
    "Not very significant difference in distribution between subreddits. Energy seems to have slightly more long (200+ character) titles."
   ]
  },
  {
   "cell_type": "markdown",
   "id": "df16aa35",
   "metadata": {},
   "source": [
    "##### Compare length of titles via word count."
   ]
  },
  {
   "cell_type": "code",
   "execution_count": 9,
   "id": "0e238425",
   "metadata": {},
   "outputs": [],
   "source": [
    "def word_count(string):\n",
    "    words_in_string=string.split( )\n",
    "    return len(words_in_string)"
   ]
  },
  {
   "cell_type": "code",
   "execution_count": 10,
   "id": "0ca383c5",
   "metadata": {},
   "outputs": [],
   "source": [
    "renewable['title_word_count']=renewable['title'].map(word_count)\n",
    "non['title_word_count']=non['title'].map(word_count)"
   ]
  },
  {
   "cell_type": "code",
   "execution_count": 11,
   "id": "182dc6e3",
   "metadata": {},
   "outputs": [
    {
     "data": {
      "image/png": "[encoded data removed]",
      "text/plain": [
       "<Figure size 432x288 with 1 Axes>"
      ]
     },
     "metadata": {
      "needs_background": "light"
     },
     "output_type": "display_data"
    }
   ],
   "source": [
    "plt.hist(renewable['title_word_count'],color='navy',alpha=.5,label=('Renewable Energy'))\n",
    "plt.hist(non['title_word_count'],color='gold',alpha=.5,label=('Energy'))\n",
    "plt.title('Title Word Count')\n",
    "plt.xlabel('Title Word Count')\n",
    "plt.ylabel('Frequency')\n",
    "plt.axvline(renewable['title_word_count'].mean(), color='navy')\n",
    "plt.axvline(non['title_word_count'].mean(), color='gold')\n",
    "plt.legend();"
   ]
  },
  {
   "cell_type": "markdown",
   "id": "e8b550e1",
   "metadata": {},
   "source": [
    "Similar overall trend seen here. Energy once again seems to have more long (30+ word count) titles."
   ]
  },
  {
   "cell_type": "markdown",
   "id": "12e4de9a",
   "metadata": {},
   "source": [
    "##### Compare average characters per word."
   ]
  },
  {
   "cell_type": "code",
   "execution_count": 12,
   "id": "44749479",
   "metadata": {
    "scrolled": true
   },
   "outputs": [
    {
     "name": "stdout",
     "output_type": "stream",
     "text": [
      "6.519775225972605\n",
      "6.532355682857796\n"
     ]
    }
   ],
   "source": [
    "print((renewable['title_character_count']/renewable['title_word_count']).mean())\n",
    "print((non['title_character_count']/non['title_word_count']).mean())\n",
    "\n",
    "# Results are very comparable\n"
   ]
  },
  {
   "cell_type": "markdown",
   "id": "921ae080",
   "metadata": {},
   "source": [
    "Average characters per word are very close, indicating the two subreddits use words generally of the same length."
   ]
  },
  {
   "cell_type": "markdown",
   "id": "89f3b5b5",
   "metadata": {},
   "source": [
    "##### Conduct sentiment analysis."
   ]
  },
  {
   "cell_type": "markdown",
   "id": "bc9526d9",
   "metadata": {},
   "source": [
    "Approach sourced from NLP I lesson on 2/22."
   ]
  },
  {
   "cell_type": "code",
   "execution_count": 13,
   "id": "de469e52",
   "metadata": {},
   "outputs": [],
   "source": [
    "sia = SentimentIntensityAnalyzer()"
   ]
  },
  {
   "cell_type": "code",
   "execution_count": 14,
   "id": "ed968185",
   "metadata": {},
   "outputs": [],
   "source": [
    "def sentiment_score(string):\n",
    "    if type(string)==str: \n",
    "        scores=sia.polarity_scores(string) \n",
    "        return scores['compound']"
   ]
  },
  {
   "cell_type": "code",
   "execution_count": 15,
   "id": "50bc1b42",
   "metadata": {},
   "outputs": [],
   "source": [
    "renewable['title_sentiment']=renewable['title'].map(sentiment_score)\n",
    "non['title_sentiment']=non['title'].map(sentiment_score)\n"
   ]
  },
  {
   "cell_type": "markdown",
   "id": "dce78fc3",
   "metadata": {},
   "source": [
    "##### Compare sentiment scores."
   ]
  },
  {
   "cell_type": "code",
   "execution_count": 16,
   "id": "0a7d6900",
   "metadata": {},
   "outputs": [
    {
     "data": {
      "text/plain": [
       "0.14517760000000013"
      ]
     },
     "execution_count": 16,
     "metadata": {},
     "output_type": "execute_result"
    }
   ],
   "source": [
    "renewable['title_sentiment'].mean()"
   ]
  },
  {
   "cell_type": "code",
   "execution_count": 17,
   "id": "a3741709",
   "metadata": {},
   "outputs": [
    {
     "data": {
      "text/plain": [
       "0.09340660660660668"
      ]
     },
     "execution_count": 17,
     "metadata": {},
     "output_type": "execute_result"
    }
   ],
   "source": [
    "non['title_sentiment'].mean()"
   ]
  },
  {
   "cell_type": "code",
   "execution_count": 18,
   "id": "8321a479",
   "metadata": {},
   "outputs": [
    {
     "data": {
      "image/png": "[encoded data removed]",
      "text/plain": [
       "<Figure size 432x288 with 1 Axes>"
      ]
     },
     "metadata": {
      "needs_background": "light"
     },
     "output_type": "display_data"
    }
   ],
   "source": [
    "plt.hist(renewable['title_sentiment'],color='navy',alpha=.5,label=('Renewable Energy'))\n",
    "plt.hist(non['title_sentiment'],color='gold',alpha=.5,label=('Energy'))\n",
    "plt.title('Sentiment Score Frequency')\n",
    "plt.xlabel(\"Sentiment\")\n",
    "plt.ylabel('Frequency')\n",
    "plt.axvline(renewable['title_sentiment'].mean(), color='navy')\n",
    "plt.axvline(non['title_sentiment'].mean(), color='gold')\n",
    "plt.legend();"
   ]
  },
  {
   "cell_type": "markdown",
   "id": "e94c12d8",
   "metadata": {},
   "source": [
    "Overall distribution shape is similar, though slightly shifted left (towards negative) for Energy. Energy also has lower mean sentiment score (0.093 vs 0.145). "
   ]
  },
  {
   "cell_type": "markdown",
   "id": "a6b8cbbf",
   "metadata": {},
   "source": [
    "##### Vectorize titles."
   ]
  },
  {
   "cell_type": "code",
   "execution_count": 19,
   "id": "f0f5c951",
   "metadata": {},
   "outputs": [],
   "source": [
    "cvec=CountVectorizer(stop_words='english')\n",
    "cvec.fit(renewable['title'])\n",
    "vectorized_renewable=pd.DataFrame(cvec.transform(renewable['title']).todense(),columns=cvec.get_feature_names())\n"
   ]
  },
  {
   "cell_type": "code",
   "execution_count": 20,
   "id": "1f3c51b5",
   "metadata": {},
   "outputs": [],
   "source": [
    "cvec.fit(non['title'])\n",
    "vectorized_non=pd.DataFrame(cvec.transform(non['title']).todense(),columns=cvec.get_feature_names())\n"
   ]
  },
  {
   "cell_type": "code",
   "execution_count": 21,
   "id": "e3a69368",
   "metadata": {},
   "outputs": [
    {
     "data": {
      "text/plain": [
       "3159"
      ]
     },
     "execution_count": 21,
     "metadata": {},
     "output_type": "execute_result"
    }
   ],
   "source": [
    "vectorized_renewable.shape[1]"
   ]
  },
  {
   "cell_type": "markdown",
   "id": "ce404e55",
   "metadata": {},
   "source": [
    "##### List 15 most common words in title for each subreddit."
   ]
  },
  {
   "cell_type": "code",
   "execution_count": 22,
   "id": "a24b7bdc",
   "metadata": {
    "scrolled": false
   },
   "outputs": [
    {
     "data": {
      "text/plain": [
       "solar         317\n",
       "energy        269\n",
       "hydrogen      140\n",
       "wind          130\n",
       "power         116\n",
       "renewable     102\n",
       "green          83\n",
       "new            77\n",
       "storage        73\n",
       "battery        62\n",
       "project        51\n",
       "world          47\n",
       "electric       45\n",
       "offshore       42\n",
       "renewables     41\n",
       "dtype: int64"
      ]
     },
     "execution_count": 22,
     "metadata": {},
     "output_type": "execute_result"
    }
   ],
   "source": [
    "vectorized_renewable.sum().T.sort_values(ascending=False).head(15)"
   ]
  },
  {
   "cell_type": "code",
   "execution_count": 24,
   "id": "9fb61440",
   "metadata": {
    "scrolled": false
   },
   "outputs": [
    {
     "data": {
      "text/plain": [
       "energy       274\n",
       "hydrogen     172\n",
       "gas          122\n",
       "power        116\n",
       "solar        101\n",
       "nuclear       90\n",
       "oil           89\n",
       "new           73\n",
       "green         66\n",
       "wind          65\n",
       "fuel          57\n",
       "clean         53\n",
       "climate       52\n",
       "industry      50\n",
       "renewable     49\n",
       "dtype: int64"
      ]
     },
     "execution_count": 24,
     "metadata": {},
     "output_type": "execute_result"
    }
   ],
   "source": [
    "vectorized_non.sum().T.sort_values(ascending=False).head(15)"
   ]
  },
  {
   "cell_type": "code",
   "execution_count": 38,
   "id": "046a3c69",
   "metadata": {
    "scrolled": true
   },
   "outputs": [
    {
     "data": {
      "image/png": "[encoded data removed]",
      "text/plain": [
       "<Figure size 720x720 with 1 Axes>"
      ]
     },
     "metadata": {
      "needs_background": "light"
     },
     "output_type": "display_data"
    }
   ],
   "source": [
    "# Graph top renewable energy words against their respective frequency in energy (non)\n",
    "# Plotting technique reference: https://stackoverflow.com/questions/15201386/how-to-plot-multiple-horizontal-bars-in-one-chart-with-matplotlib\n",
    "x_values=vectorized_renewable.sum().sort_values().index[-15:]\n",
    "renewable_y_values=vectorized_renewable.sum().sort_values()[-15:]\n",
    "non_y_values=[]\n",
    "\n",
    "for word in x_values:\n",
    "    if word in vectorized_non.sum().sort_values().index:\n",
    "        non_y_values.append(vectorized_non.sum()[word])\n",
    "    else:\n",
    "        non_y_values.append(0) \n",
    "\n",
    "df = pd.DataFrame({'Energy Titles': non_y_values,'Renewable Energy Titles': renewable_y_values}, index=x_values)\n",
    "df.plot.barh(color={'Renewable Energy Titles':'navy','Energy Titles':'gold'},title='Most Frequently Occuring Words in Renewable Energy Titles',figsize=(10,10),xlabel='Top 15 Words',ylabel='Frequency');\n",
    "\n",
    "\n"
   ]
  },
  {
   "cell_type": "markdown",
   "id": "6b308ae5",
   "metadata": {},
   "source": [
    "Many of the top words from Renewable Energy are seen at considerable levels in Energy as well. Interesting to note hydrogen is more frequently occuring in Energy."
   ]
  },
  {
   "cell_type": "code",
   "execution_count": 25,
   "id": "dcbeface",
   "metadata": {
    "scrolled": false
   },
   "outputs": [
    {
     "data": {
      "image/png": "[encoded data removed]",
      "text/plain": [
       "<Figure size 720x720 with 1 Axes>"
      ]
     },
     "metadata": {
      "needs_background": "light"
     },
     "output_type": "display_data"
    }
   ],
   "source": [
    "# Vice versa, graph top energy words against their respective frequency in renewable energy\n",
    "x_values=vectorized_non.sum().sort_values().index[-15:]\n",
    "non_y_values=vectorized_non.sum().sort_values()[-15:]\n",
    "renewable_y_values=[]\n",
    "\n",
    "for word in x_values:\n",
    "    if word in vectorized_renewable.sum().sort_values().index:\n",
    "        renewable_y_values.append(vectorized_renewable.sum()[word])\n",
    "    else:\n",
    "        renewable_y_values.append(0) \n",
    "\n",
    "df = pd.DataFrame({'Renewable Energy Titles': renewable_y_values,'Energy Titles': non_y_values}, index=x_values)\n",
    "df.plot.barh(color={'Renewable Energy Titles':'navy','Energy Titles':'gold'},title='Most Frequently Occuring Words in Energy Titles',figsize=(10,10),xlabel='Top 15 Words',ylabel='Frequency');\n",
    "\n",
    "\n"
   ]
  },
  {
   "cell_type": "code",
   "execution_count": 45,
   "id": "99b60caf",
   "metadata": {},
   "outputs": [
    {
     "name": "stdout",
     "output_type": "stream",
     "text": [
      "electric\n",
      "wind\n",
      "green\n",
      "new\n",
      "solar\n",
      "power\n",
      "hydrogen\n",
      "energy\n"
     ]
    }
   ],
   "source": [
    "# List words that appear in both top 15 lists\n",
    "for word in vectorized_non.sum().sort_values().index[-15:]:\n",
    "    if word in vectorized_renewable.sum().sort_values().index[-15:]:\n",
    "        print(word)"
   ]
  },
  {
   "cell_type": "markdown",
   "id": "543a1d2b",
   "metadata": {},
   "source": [
    "The words shared between the top 15 word lists makes sense, as Energy covers Renewable Energy under its broader subject range. There are no words associated with clearly non renewable energy (e.g. \"oil\" in Energy's list) that appear in Renewable Energy's list."
   ]
  },
  {
   "cell_type": "code",
   "execution_count": null,
   "id": "4f677cd0",
   "metadata": {},
   "outputs": [],
   "source": []
  }
 ],
 "metadata": {
  "kernelspec": {
   "display_name": "Python 3 (ipykernel)",
   "language": "python",
   "name": "python3"
  },
  "language_info": {
   "codemirror_mode": {
    "name": "ipython",
    "version": 3
   },
   "file_extension": ".py",
   "mimetype": "text/x-python",
   "name": "python",
   "nbconvert_exporter": "python",
   "pygments_lexer": "ipython3",
   "version": "3.9.7"
  }
 },
 "nbformat": 4,
 "nbformat_minor": 5
}
