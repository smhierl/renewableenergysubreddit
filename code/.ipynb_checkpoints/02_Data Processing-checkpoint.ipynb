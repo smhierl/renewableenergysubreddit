{
 "cells": [
  {
   "cell_type": "markdown",
   "id": "402d721d",
   "metadata": {},
   "source": [
    "# Data Processing"
   ]
  },
  {
   "cell_type": "markdown",
   "id": "0686aae2",
   "metadata": {},
   "source": [
    "##### Import libraries and read in data."
   ]
  },
  {
   "cell_type": "code",
   "execution_count": 1,
   "id": "ee9326a6",
   "metadata": {},
   "outputs": [],
   "source": [
    "import pandas as pd       \n",
    "from nltk.tokenize import RegexpTokenizer\n",
    "from nltk.stem import WordNetLemmatizer\n",
    "from nltk.corpus import stopwords\n",
    "import re"
   ]
  },
  {
   "cell_type": "code",
   "execution_count": 3,
   "id": "da5a4a06",
   "metadata": {},
   "outputs": [],
   "source": [
    "df=pd.read_csv('../data/raw_data')"
   ]
  },
  {
   "cell_type": "markdown",
   "id": "e3860be2",
   "metadata": {},
   "source": [
    "##### Review raw data file."
   ]
  },
  {
   "cell_type": "code",
   "execution_count": 4,
   "id": "52f85d9c",
   "metadata": {},
   "outputs": [
    {
     "data": {
      "text/html": [
       "<div>\n",
       "<style scoped>\n",
       "    .dataframe tbody tr th:only-of-type {\n",
       "        vertical-align: middle;\n",
       "    }\n",
       "\n",
       "    .dataframe tbody tr th {\n",
       "        vertical-align: top;\n",
       "    }\n",
       "\n",
       "    .dataframe thead th {\n",
       "        text-align: right;\n",
       "    }\n",
       "</style>\n",
       "<table border=\"1\" class=\"dataframe\">\n",
       "  <thead>\n",
       "    <tr style=\"text-align: right;\">\n",
       "      <th></th>\n",
       "      <th>Unnamed: 0</th>\n",
       "      <th>all_awardings</th>\n",
       "      <th>allow_live_comments</th>\n",
       "      <th>author</th>\n",
       "      <th>author_flair_css_class</th>\n",
       "      <th>author_flair_richtext</th>\n",
       "      <th>author_flair_text</th>\n",
       "      <th>author_flair_type</th>\n",
       "      <th>author_fullname</th>\n",
       "      <th>author_is_blocked</th>\n",
       "      <th>...</th>\n",
       "      <th>banned_by</th>\n",
       "      <th>author_cakeday</th>\n",
       "      <th>author_flair_template_id</th>\n",
       "      <th>suggested_sort</th>\n",
       "      <th>crosspost_parent</th>\n",
       "      <th>crosspost_parent_list</th>\n",
       "      <th>gallery_data</th>\n",
       "      <th>is_gallery</th>\n",
       "      <th>media_metadata</th>\n",
       "      <th>poll_data</th>\n",
       "    </tr>\n",
       "  </thead>\n",
       "  <tbody>\n",
       "    <tr>\n",
       "      <th>0</th>\n",
       "      <td>0</td>\n",
       "      <td>[]</td>\n",
       "      <td>False</td>\n",
       "      <td>scottiekinesdgu</td>\n",
       "      <td>NaN</td>\n",
       "      <td>[]</td>\n",
       "      <td>NaN</td>\n",
       "      <td>text</td>\n",
       "      <td>t2_pg0sj</td>\n",
       "      <td>False</td>\n",
       "      <td>...</td>\n",
       "      <td>NaN</td>\n",
       "      <td>NaN</td>\n",
       "      <td>NaN</td>\n",
       "      <td>NaN</td>\n",
       "      <td>NaN</td>\n",
       "      <td>NaN</td>\n",
       "      <td>NaN</td>\n",
       "      <td>NaN</td>\n",
       "      <td>NaN</td>\n",
       "      <td>NaN</td>\n",
       "    </tr>\n",
       "    <tr>\n",
       "      <th>1</th>\n",
       "      <td>1</td>\n",
       "      <td>[]</td>\n",
       "      <td>False</td>\n",
       "      <td>thatswhatyougot</td>\n",
       "      <td>NaN</td>\n",
       "      <td>[]</td>\n",
       "      <td>NaN</td>\n",
       "      <td>text</td>\n",
       "      <td>t2_i8n1vzta</td>\n",
       "      <td>False</td>\n",
       "      <td>...</td>\n",
       "      <td>NaN</td>\n",
       "      <td>NaN</td>\n",
       "      <td>NaN</td>\n",
       "      <td>NaN</td>\n",
       "      <td>NaN</td>\n",
       "      <td>NaN</td>\n",
       "      <td>NaN</td>\n",
       "      <td>NaN</td>\n",
       "      <td>NaN</td>\n",
       "      <td>NaN</td>\n",
       "    </tr>\n",
       "    <tr>\n",
       "      <th>2</th>\n",
       "      <td>2</td>\n",
       "      <td>[]</td>\n",
       "      <td>False</td>\n",
       "      <td>treycent</td>\n",
       "      <td>NaN</td>\n",
       "      <td>[]</td>\n",
       "      <td>NaN</td>\n",
       "      <td>text</td>\n",
       "      <td>t2_f1py2</td>\n",
       "      <td>False</td>\n",
       "      <td>...</td>\n",
       "      <td>NaN</td>\n",
       "      <td>NaN</td>\n",
       "      <td>NaN</td>\n",
       "      <td>NaN</td>\n",
       "      <td>NaN</td>\n",
       "      <td>NaN</td>\n",
       "      <td>NaN</td>\n",
       "      <td>NaN</td>\n",
       "      <td>NaN</td>\n",
       "      <td>NaN</td>\n",
       "    </tr>\n",
       "    <tr>\n",
       "      <th>3</th>\n",
       "      <td>3</td>\n",
       "      <td>[]</td>\n",
       "      <td>False</td>\n",
       "      <td>Infamous_Masterpiece</td>\n",
       "      <td>NaN</td>\n",
       "      <td>[]</td>\n",
       "      <td>NaN</td>\n",
       "      <td>text</td>\n",
       "      <td>t2_3j7w42pk</td>\n",
       "      <td>False</td>\n",
       "      <td>...</td>\n",
       "      <td>NaN</td>\n",
       "      <td>NaN</td>\n",
       "      <td>NaN</td>\n",
       "      <td>NaN</td>\n",
       "      <td>NaN</td>\n",
       "      <td>NaN</td>\n",
       "      <td>NaN</td>\n",
       "      <td>NaN</td>\n",
       "      <td>NaN</td>\n",
       "      <td>NaN</td>\n",
       "    </tr>\n",
       "    <tr>\n",
       "      <th>4</th>\n",
       "      <td>4</td>\n",
       "      <td>[]</td>\n",
       "      <td>False</td>\n",
       "      <td>POLAR_Racking</td>\n",
       "      <td>NaN</td>\n",
       "      <td>[]</td>\n",
       "      <td>NaN</td>\n",
       "      <td>text</td>\n",
       "      <td>t2_g38aiz8d</td>\n",
       "      <td>False</td>\n",
       "      <td>...</td>\n",
       "      <td>NaN</td>\n",
       "      <td>NaN</td>\n",
       "      <td>NaN</td>\n",
       "      <td>NaN</td>\n",
       "      <td>NaN</td>\n",
       "      <td>NaN</td>\n",
       "      <td>NaN</td>\n",
       "      <td>NaN</td>\n",
       "      <td>NaN</td>\n",
       "      <td>NaN</td>\n",
       "    </tr>\n",
       "  </tbody>\n",
       "</table>\n",
       "<p>5 rows × 82 columns</p>\n",
       "</div>"
      ],
      "text/plain": [
       "  Unnamed: 0 all_awardings  allow_live_comments                author  \\\n",
       "0          0            []                False       scottiekinesdgu   \n",
       "1          1            []                False       thatswhatyougot   \n",
       "2          2            []                False              treycent   \n",
       "3          3            []                False  Infamous_Masterpiece   \n",
       "4          4            []                False         POLAR_Racking   \n",
       "\n",
       "  author_flair_css_class author_flair_richtext author_flair_text  \\\n",
       "0                    NaN                    []               NaN   \n",
       "1                    NaN                    []               NaN   \n",
       "2                    NaN                    []               NaN   \n",
       "3                    NaN                    []               NaN   \n",
       "4                    NaN                    []               NaN   \n",
       "\n",
       "  author_flair_type author_fullname author_is_blocked  ... banned_by  \\\n",
       "0              text        t2_pg0sj             False  ...       NaN   \n",
       "1              text     t2_i8n1vzta             False  ...       NaN   \n",
       "2              text        t2_f1py2             False  ...       NaN   \n",
       "3              text     t2_3j7w42pk             False  ...       NaN   \n",
       "4              text     t2_g38aiz8d             False  ...       NaN   \n",
       "\n",
       "  author_cakeday author_flair_template_id suggested_sort crosspost_parent  \\\n",
       "0            NaN                      NaN            NaN              NaN   \n",
       "1            NaN                      NaN            NaN              NaN   \n",
       "2            NaN                      NaN            NaN              NaN   \n",
       "3            NaN                      NaN            NaN              NaN   \n",
       "4            NaN                      NaN            NaN              NaN   \n",
       "\n",
       "  crosspost_parent_list gallery_data is_gallery media_metadata poll_data  \n",
       "0                   NaN          NaN        NaN            NaN       NaN  \n",
       "1                   NaN          NaN        NaN            NaN       NaN  \n",
       "2                   NaN          NaN        NaN            NaN       NaN  \n",
       "3                   NaN          NaN        NaN            NaN       NaN  \n",
       "4                   NaN          NaN        NaN            NaN       NaN  \n",
       "\n",
       "[5 rows x 82 columns]"
      ]
     },
     "execution_count": 4,
     "metadata": {},
     "output_type": "execute_result"
    }
   ],
   "source": [
    "df.head()"
   ]
  },
  {
   "cell_type": "code",
   "execution_count": 5,
   "id": "5114035f",
   "metadata": {},
   "outputs": [
    {
     "data": {
      "text/plain": [
       "(2001, 82)"
      ]
     },
     "execution_count": 5,
     "metadata": {},
     "output_type": "execute_result"
    }
   ],
   "source": [
    "df.shape"
   ]
  },
  {
   "cell_type": "code",
   "execution_count": 6,
   "id": "26c5970a",
   "metadata": {
    "scrolled": false
   },
   "outputs": [
    {
     "data": {
      "text/plain": [
       "Index(['Unnamed: 0', 'all_awardings', 'allow_live_comments', 'author',\n",
       "       'author_flair_css_class', 'author_flair_richtext', 'author_flair_text',\n",
       "       'author_flair_type', 'author_fullname', 'author_is_blocked',\n",
       "       'author_patreon_flair', 'author_premium', 'awarders', 'can_mod_post',\n",
       "       'contest_mode', 'created_utc', 'domain', 'full_link', 'gildings', 'id',\n",
       "       'is_created_from_ads_ui', 'is_crosspostable', 'is_meta',\n",
       "       'is_original_content', 'is_reddit_media_domain', 'is_robot_indexable',\n",
       "       'is_self', 'is_video', 'link_flair_background_color',\n",
       "       'link_flair_richtext', 'link_flair_text_color', 'link_flair_type',\n",
       "       'locked', 'media_only', 'no_follow', 'num_comments', 'num_crossposts',\n",
       "       'over_18', 'parent_whitelist_status', 'permalink', 'pinned',\n",
       "       'post_hint', 'preview', 'pwls', 'removed_by_category', 'retrieved_on',\n",
       "       'score', 'selftext', 'send_replies', 'spoiler', 'stickied', 'subreddit',\n",
       "       'subreddit_id', 'subreddit_subscribers', 'subreddit_type', 'thumbnail',\n",
       "       'thumbnail_height', 'thumbnail_width', 'title', 'total_awards_received',\n",
       "       'treatment_tags', 'upvote_ratio', 'url', 'url_overridden_by_dest',\n",
       "       'whitelist_status', 'wls', 'media', 'media_embed', 'secure_media',\n",
       "       'secure_media_embed', 'author_flair_background_color',\n",
       "       'author_flair_text_color', 'banned_by', 'author_cakeday',\n",
       "       'author_flair_template_id', 'suggested_sort', 'crosspost_parent',\n",
       "       'crosspost_parent_list', 'gallery_data', 'is_gallery', 'media_metadata',\n",
       "       'poll_data'],\n",
       "      dtype='object')"
      ]
     },
     "execution_count": 6,
     "metadata": {},
     "output_type": "execute_result"
    }
   ],
   "source": [
    "df.columns"
   ]
  },
  {
   "cell_type": "markdown",
   "id": "f91b93a8",
   "metadata": {},
   "source": [
    "##### Isolate columns of interest."
   ]
  },
  {
   "cell_type": "code",
   "execution_count": 7,
   "id": "f9c9aa9f",
   "metadata": {},
   "outputs": [],
   "source": [
    "df=df[['title','selftext','subreddit']]"
   ]
  },
  {
   "cell_type": "code",
   "execution_count": 8,
   "id": "0b6ffaa6",
   "metadata": {
    "scrolled": true
   },
   "outputs": [
    {
     "data": {
      "text/html": [
       "<div>\n",
       "<style scoped>\n",
       "    .dataframe tbody tr th:only-of-type {\n",
       "        vertical-align: middle;\n",
       "    }\n",
       "\n",
       "    .dataframe tbody tr th {\n",
       "        vertical-align: top;\n",
       "    }\n",
       "\n",
       "    .dataframe thead th {\n",
       "        text-align: right;\n",
       "    }\n",
       "</style>\n",
       "<table border=\"1\" class=\"dataframe\">\n",
       "  <thead>\n",
       "    <tr style=\"text-align: right;\">\n",
       "      <th></th>\n",
       "      <th>title</th>\n",
       "      <th>selftext</th>\n",
       "      <th>subreddit</th>\n",
       "    </tr>\n",
       "  </thead>\n",
       "  <tbody>\n",
       "    <tr>\n",
       "      <th>1996</th>\n",
       "      <td>Biomass Gasification Market-Industry Analysis ...</td>\n",
       "      <td>NaN</td>\n",
       "      <td>energy</td>\n",
       "    </tr>\n",
       "    <tr>\n",
       "      <th>1997</th>\n",
       "      <td>Precision Irrigation Market- Industry Analysis...</td>\n",
       "      <td>NaN</td>\n",
       "      <td>energy</td>\n",
       "    </tr>\n",
       "    <tr>\n",
       "      <th>1998</th>\n",
       "      <td>Lawn mower Battery Market: Industry Analysis a...</td>\n",
       "      <td>NaN</td>\n",
       "      <td>energy</td>\n",
       "    </tr>\n",
       "    <tr>\n",
       "      <th>1999</th>\n",
       "      <td>Gas Genset Market- Industry Analysis and forec...</td>\n",
       "      <td>NaN</td>\n",
       "      <td>energy</td>\n",
       "    </tr>\n",
       "    <tr>\n",
       "      <th>2000</th>\n",
       "      <td>Electric Rope Shovel Market- Industry Analysis...</td>\n",
       "      <td>NaN</td>\n",
       "      <td>energy</td>\n",
       "    </tr>\n",
       "  </tbody>\n",
       "</table>\n",
       "</div>"
      ],
      "text/plain": [
       "                                                  title selftext subreddit\n",
       "1996  Biomass Gasification Market-Industry Analysis ...      NaN    energy\n",
       "1997  Precision Irrigation Market- Industry Analysis...      NaN    energy\n",
       "1998  Lawn mower Battery Market: Industry Analysis a...      NaN    energy\n",
       "1999  Gas Genset Market- Industry Analysis and forec...      NaN    energy\n",
       "2000  Electric Rope Shovel Market- Industry Analysis...      NaN    energy"
      ]
     },
     "execution_count": 8,
     "metadata": {},
     "output_type": "execute_result"
    }
   ],
   "source": [
    "df.tail()"
   ]
  },
  {
   "cell_type": "code",
   "execution_count": 10,
   "id": "7480a3a3",
   "metadata": {
    "scrolled": true
   },
   "outputs": [
    {
     "data": {
      "text/html": [
       "<div>\n",
       "<style scoped>\n",
       "    .dataframe tbody tr th:only-of-type {\n",
       "        vertical-align: middle;\n",
       "    }\n",
       "\n",
       "    .dataframe tbody tr th {\n",
       "        vertical-align: top;\n",
       "    }\n",
       "\n",
       "    .dataframe thead th {\n",
       "        text-align: right;\n",
       "    }\n",
       "</style>\n",
       "<table border=\"1\" class=\"dataframe\">\n",
       "  <thead>\n",
       "    <tr style=\"text-align: right;\">\n",
       "      <th></th>\n",
       "      <th>title</th>\n",
       "      <th>selftext</th>\n",
       "      <th>subreddit</th>\n",
       "    </tr>\n",
       "  </thead>\n",
       "  <tbody>\n",
       "    <tr>\n",
       "      <th>0</th>\n",
       "      <td>baufinanzierung commerzbank – top konditionen ...</td>\n",
       "      <td>NaN</td>\n",
       "      <td>RenewableEnergy</td>\n",
       "    </tr>\n",
       "    <tr>\n",
       "      <th>1</th>\n",
       "      <td>Solar Tsunami: Solar PV grows 26% again – stay...</td>\n",
       "      <td>NaN</td>\n",
       "      <td>RenewableEnergy</td>\n",
       "    </tr>\n",
       "    <tr>\n",
       "      <th>2</th>\n",
       "      <td>Agrivolaics to shine in France after president...</td>\n",
       "      <td>NaN</td>\n",
       "      <td>RenewableEnergy</td>\n",
       "    </tr>\n",
       "  </tbody>\n",
       "</table>\n",
       "</div>"
      ],
      "text/plain": [
       "                                               title selftext        subreddit\n",
       "0  baufinanzierung commerzbank – top konditionen ...      NaN  RenewableEnergy\n",
       "1  Solar Tsunami: Solar PV grows 26% again – stay...      NaN  RenewableEnergy\n",
       "2  Agrivolaics to shine in France after president...      NaN  RenewableEnergy"
      ]
     },
     "execution_count": 10,
     "metadata": {},
     "output_type": "execute_result"
    }
   ],
   "source": [
    "df.head(3)"
   ]
  },
  {
   "cell_type": "code",
   "execution_count": 13,
   "id": "b3b21e3a",
   "metadata": {},
   "outputs": [
    {
     "name": "stdout",
     "output_type": "stream",
     "text": [
      "                                               title selftext        subreddit\n",
      "0  baufinanzierung commerzbank – top konditionen ...      NaN  RenewableEnergy\n",
      "1  Solar Tsunami: Solar PV grows 26% again – stay...      NaN  RenewableEnergy\n",
      "2  Agrivolaics to shine in France after president...      NaN  RenewableEnergy\n",
      "3  Germany aims to get 100% of energy from renewa...      NaN  RenewableEnergy\n"
     ]
    }
   ],
   "source": [
    "for post in print(df.loc[0:3]):\n",
    "    pri"
   ]
  },
  {
   "cell_type": "code",
   "execution_count": 8,
   "id": "62fc5bbe",
   "metadata": {
    "scrolled": true
   },
   "outputs": [
    {
     "data": {
      "text/plain": [
       "1666"
      ]
     },
     "execution_count": 8,
     "metadata": {},
     "output_type": "execute_result"
    }
   ],
   "source": [
    "# Determine number of selftext NaN entries\n",
    "df['selftext'].isna().sum()\n",
    "\n",
    "# Because 1666 of 2000 self entries (83.3%) are NaN, the analysis will be focusing exclusively on title values from this point forward"
   ]
  },
  {
   "cell_type": "code",
   "execution_count": 9,
   "id": "c69e8934",
   "metadata": {},
   "outputs": [],
   "source": [
    "df.drop(columns=['selftext'],inplace=True)"
   ]
  },
  {
   "cell_type": "markdown",
   "id": "934fb2b6",
   "metadata": {},
   "source": [
    "##### Divide DataFrame between each subreddit."
   ]
  },
  {
   "cell_type": "code",
   "execution_count": 10,
   "id": "cc15332e",
   "metadata": {},
   "outputs": [],
   "source": [
    "renewable=df.copy()[df['subreddit']=='RenewableEnergy']"
   ]
  },
  {
   "cell_type": "code",
   "execution_count": 11,
   "id": "3647adc6",
   "metadata": {},
   "outputs": [],
   "source": [
    "non=df.copy()[df['subreddit']=='energy']"
   ]
  },
  {
   "cell_type": "markdown",
   "id": "6c0b54f3",
   "metadata": {},
   "source": [
    "##### Save new DataFrames."
   ]
  },
  {
   "cell_type": "code",
   "execution_count": 12,
   "id": "0affd9b9",
   "metadata": {},
   "outputs": [],
   "source": [
    "renewable.to_csv('./data/renewable.csv', index=False)\n",
    "non.to_csv('./data/non_renewable.csv', index=False)"
   ]
  }
 ],
 "metadata": {
  "kernelspec": {
   "display_name": "Python 3 (ipykernel)",
   "language": "python",
   "name": "python3"
  },
  "language_info": {
   "codemirror_mode": {
    "name": "ipython",
    "version": 3
   },
   "file_extension": ".py",
   "mimetype": "text/x-python",
   "name": "python",
   "nbconvert_exporter": "python",
   "pygments_lexer": "ipython3",
   "version": "3.9.7"
  }
 },
 "nbformat": 4,
 "nbformat_minor": 5
}
